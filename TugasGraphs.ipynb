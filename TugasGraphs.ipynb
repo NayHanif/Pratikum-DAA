{
 "cells": [
  {
   "cell_type": "markdown",
   "metadata": {},
   "source": [
    "# Undirected Graphs"
   ]
  },
  {
   "cell_type": "code",
   "execution_count": 6,
   "metadata": {},
   "outputs": [
    {
     "name": "stdout",
     "output_type": "stream",
     "text": [
      "Following are connected components\n",
      "[[0, 1], [2, 3, 4]]\n"
     ]
    }
   ],
   "source": [
    "# Python program to print connected\n",
    "# components in an undirected graph\n",
    "\n",
    "\n",
    "class Graph:\n",
    "\n",
    "\t# init function to declare class variables\n",
    "\tdef __init__(self, V):\n",
    "\t\tself.V = V\n",
    "\t\tself.adj = [[] for i in range(V)]\n",
    "\n",
    "\tdef DFSUtil(self, temp, v, visited):\n",
    "\n",
    "\t\t# Mark the current vertex as visited\n",
    "\t\tvisited[v] = True\n",
    "\n",
    "\t\t# Store the vertex to list\n",
    "\t\ttemp.append(v)\n",
    "\n",
    "\t\t# Repeat for all vertices adjacent\n",
    "\t\t# to this vertex v\n",
    "\t\tfor i in self.adj[v]:\n",
    "\t\t\tif visited[i] == False:\n",
    "\n",
    "\t\t\t\t# Update the list\n",
    "\t\t\t\ttemp = self.DFSUtil(temp, i, visited)\n",
    "\t\treturn temp\n",
    "\n",
    "\t# method to add an undirected edge\n",
    "\tdef addEdge(self, v, w):\n",
    "\t\tself.adj[v].append(w)\n",
    "\t\tself.adj[w].append(v)\n",
    "\n",
    "\t# Method to retrieve connected components\n",
    "\t# in an undirected graph\n",
    "\tdef connectedComponents(self):\n",
    "\t\tvisited = []\n",
    "\t\tcc = []\n",
    "\t\tfor i in range(self.V):\n",
    "\t\t\tvisited.append(False)\n",
    "\t\tfor v in range(self.V):\n",
    "\t\t\tif visited[v] == False:\n",
    "\t\t\t\ttemp = []\n",
    "\t\t\t\tcc.append(self.DFSUtil(temp, v, visited))\n",
    "\t\treturn cc\n",
    "\n",
    "\n",
    "# Driver Code\n",
    "if __name__ == \"__main__\":\n",
    "\n",
    "\t# Create a graph given in the above diagram\n",
    "\t# 5 vertices numbered from 0 to 4\n",
    "\tg = Graph(5)\n",
    "\tg.addEdge(1, 0)\n",
    "\tg.addEdge(2, 3)\n",
    "\tg.addEdge(3, 4)\n",
    "\tcc = g.connectedComponents()\n",
    "\tprint(\"Following are connected components\")\n",
    "\tprint(cc)\n",
    "\n",
    "# This code is contributed by Abhishek Valsan\n"
   ]
  },
  {
   "cell_type": "code",
   "execution_count": null,
   "metadata": {},
   "outputs": [],
   "source": []
  }
 ],
 "metadata": {
  "kernelspec": {
   "display_name": "Python 3",
   "language": "python",
   "name": "python3"
  },
  "language_info": {
   "codemirror_mode": {
    "name": "ipython",
    "version": 3
   },
   "file_extension": ".py",
   "mimetype": "text/x-python",
   "name": "python",
   "nbconvert_exporter": "python",
   "pygments_lexer": "ipython3",
   "version": "3.8.3"
  }
 },
 "nbformat": 4,
 "nbformat_minor": 4
}
