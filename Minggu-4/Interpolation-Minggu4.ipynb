{
 "cells": [
  {
   "cell_type": "code",
   "execution_count": 4,
   "metadata": {},
   "outputs": [],
   "source": [
    "# 3.Interpolation\n",
    "def BubbleSort(list):\n",
    "# Exchange the element to arrange in order\n",
    "    lastElementIndex = len(list)-1\n",
    "    for passNo in range(lastElementIndex,0,-1):\n",
    "        for idx in range(passNo):\n",
    "            if list[idx]>list[idx+1]:\n",
    "                list[idx],list[idx+1]=list[idx+1],list[idx]\n",
    "    return list"
   ]
  },
  {
   "cell_type": "code",
   "execution_count": 7,
   "metadata": {},
   "outputs": [],
   "source": [
    "def IntPolsearch(list, x):\n",
    "    idx0 = 0\n",
    "    idxn = (len(list) - 1)\n",
    "    found = False\n",
    "    while idx0 <= idxn and x >= list [idx0] and x <= list[idxn]:\n",
    "        \n",
    "# Find the mid point\n",
    "        mid = idx0 + int (((float(idxn - idx0)/(list[idxn])) * (x - list[idx0])))\n",
    "    \n",
    "# Compare the value at mid point with search value\n",
    "        if list[mid] == x:\n",
    "            found = True\n",
    "            return found\n",
    "        \n",
    "        if list[mid] < x:\n",
    "            idx0 = mid + 1\n",
    "    return found"
   ]
  },
  {
   "cell_type": "code",
   "execution_count": 8,
   "metadata": {},
   "outputs": [
    {
     "name": "stdout",
     "output_type": "stream",
     "text": [
      "True\n",
      "False\n"
     ]
    }
   ],
   "source": [
    "list = [12, 33, 11, 90, 22, 55, 90]\n",
    "sorted_list = BubbleSort(list)\n",
    "print(IntPolsearch(list, 12))\n",
    "print(IntPolsearch(list, 91))"
   ]
  },
  {
   "cell_type": "code",
   "execution_count": null,
   "metadata": {},
   "outputs": [],
   "source": []
  }
 ],
 "metadata": {
  "kernelspec": {
   "display_name": "Python 3",
   "language": "python",
   "name": "python3"
  },
  "language_info": {
   "codemirror_mode": {
    "name": "ipython",
    "version": 3
   },
   "file_extension": ".py",
   "mimetype": "text/x-python",
   "name": "python",
   "nbconvert_exporter": "python",
   "pygments_lexer": "ipython3",
   "version": "3.8.3"
  }
 },
 "nbformat": 4,
 "nbformat_minor": 4
}
