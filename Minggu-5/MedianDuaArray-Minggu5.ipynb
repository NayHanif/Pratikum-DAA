{
 "cells": [
  {
   "cell_type": "markdown",
   "metadata": {},
   "source": [
    "# Median dua array urut sama ukuran"
   ]
  },
  {
   "cell_type": "markdown",
   "metadata": {},
   "source": [
    "Mencari nilai tengah dari dua array yang berurutan nilainya, dan ukurannya sama"
   ]
  },
  {
   "cell_type": "code",
   "execution_count": 53,
   "metadata": {},
   "outputs": [],
   "source": [
    "# Median dari dua array dengan divide dan conquer\n",
    "\n",
    "def medianOfArray(arr1,arr2,n):\n",
    "    m1=-1 #first number\n",
    "    m2=-1 #Second number\n",
    "    count=0\n",
    "    i=j=0\n",
    "    while count<n+1:\n",
    "        count+=1\n",
    "        if i==n: # i==5 index error if arr1[i]<arr2[j] is checked\n",
    "            m1=m2\n",
    "            m2=arr2[0]\n",
    "            break\n",
    "        if j==n:\n",
    "            m1=m2\n",
    "            m2=arr1[0]\n",
    "            break\n",
    "        if arr1[i]<arr2[j]:\n",
    "            m1=m2\n",
    "            m2=arr1[i]\n",
    "            i+=1\n",
    "        else:\n",
    "            m1=m2\n",
    "            m2=arr2[j]\n",
    "            j+=1\n",
    "    return (m1+m2)//2"
   ]
  },
  {
   "cell_type": "code",
   "execution_count": 54,
   "metadata": {},
   "outputs": [],
   "source": [
    "arr1=[1, 12, 15, 26, 38]\n",
    "arr2=[2, 13, 17, 30, 45]"
   ]
  },
  {
   "cell_type": "code",
   "execution_count": 55,
   "metadata": {},
   "outputs": [
    {
     "name": "stdout",
     "output_type": "stream",
     "text": [
      "16\n"
     ]
    }
   ],
   "source": [
    "print(medianOfArray(arr1,arr2,len(arr1)))"
   ]
  },
  {
   "cell_type": "markdown",
   "metadata": {},
   "source": [
    "# Median dua array urut berbeda ukuran"
   ]
  },
  {
   "cell_type": "markdown",
   "metadata": {},
   "source": [
    "Mencari nilai tengah array yang berurutan, namun ukurannya berbeda"
   ]
  },
  {
   "cell_type": "code",
   "execution_count": 31,
   "metadata": {},
   "outputs": [],
   "source": [
    "# Floor in sorted array\n",
    "\n",
    "def floorSorted(arr, low, high, x):\n",
    "    #print(low,high)\n",
    "    if low>high:\n",
    "        return -1\n",
    "    \n",
    "    if arr[low]>x:\n",
    "        #print(\"inside\")\n",
    "        return -1\n",
    "\n",
    "    if arr[high]<-x:\n",
    "        return arr[high]\n",
    "    \n",
    "    mid=(low+high)//2\n",
    "    \n",
    "    if arr[mid]==x:\n",
    "        return arr[mid]\n",
    "    \n",
    "    if mid<0 and x>=arr[mid-1] and arr[mid]>x:\n",
    "        return arr[mid-1]\n",
    "    \n",
    "    if mid<high and x<arr[mid+1] and x>=arr[mid]:\n",
    "        return arr[mid]\n",
    "    \n",
    "    if x>arr[mid]:\n",
    "        return floorSorted(arr,mid+1,high,x)\n",
    "    else:\n",
    "        return floorSorted(arr,low,mid-1,x)"
   ]
  },
  {
   "cell_type": "code",
   "execution_count": 33,
   "metadata": {},
   "outputs": [],
   "source": [
    "arr=[1,2,8,10,12,14,19]"
   ]
  },
  {
   "cell_type": "code",
   "execution_count": 34,
   "metadata": {},
   "outputs": [],
   "source": [
    "x=5"
   ]
  },
  {
   "cell_type": "code",
   "execution_count": 35,
   "metadata": {},
   "outputs": [
    {
     "name": "stdout",
     "output_type": "stream",
     "text": [
      "2\n"
     ]
    }
   ],
   "source": [
    "print(floorSorted(arr,0,len(arr)-1,x))"
   ]
  }
 ],
 "metadata": {
  "kernelspec": {
   "display_name": "Python 3",
   "language": "python",
   "name": "python3"
  },
  "language_info": {
   "codemirror_mode": {
    "name": "ipython",
    "version": 3
   },
   "file_extension": ".py",
   "mimetype": "text/x-python",
   "name": "python",
   "nbconvert_exporter": "python",
   "pygments_lexer": "ipython3",
   "version": "3.8.3"
  }
 },
 "nbformat": 4,
 "nbformat_minor": 4
}
