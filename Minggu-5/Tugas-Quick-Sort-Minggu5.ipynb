{
 "cells": [
  {
   "cell_type": "code",
   "execution_count": 21,
   "metadata": {},
   "outputs": [],
   "source": [
    "# Sorting menggunakan Quicksort memerlukan pivot sebagai acuan\n",
    "# Pada codingan ini, pivot yang di ambil adalah elemen terakhir\n",
    "\n",
    "# Fungsi Partition ini akan membenarkan urutan array,\n",
    "# agar jika nilai lebih kecil dari pivot maka akan\n",
    "# di swap ke kiri pivot dan jika lebih besar dari\n",
    "# pivot, maka akan di swap ke kanan pivot\n",
    "def partition(arr, low, high):\n",
    "    i = (low-1)  \n",
    "    pivot = arr[high] # pivot\n",
    "\n",
    "    for j in range(low, high):\n",
    "\n",
    "        # Jika element terbaru lebih kecil dari pivot\n",
    "        if arr[j] <= pivot:\n",
    "\n",
    "            i += 1 \n",
    "            arr[i], arr[j] = arr[j], arr[i] #swap\n",
    "\n",
    "    arr[i+1], arr[high] = arr[high], arr[i+1] #swap\n",
    "    return (i+1)\n",
    "\n",
    "# The main function that implements QuickSort\n",
    "# arr[] --> Array yang akan disorting,\n",
    "# low --> Index awal/pertama,\n",
    "# high --> Index terakhir\n",
    "\n",
    "# Fungsi untuk melakukan Quick sort\n",
    "\n",
    "\n",
    "def quickSort(arr, low, high): # low merupakan index awal dan high adalah index terakhir\n",
    "    if len(arr) == 1:\n",
    "        return arr\n",
    "    if low < high:\n",
    "\n",
    "        # pi is partitioning index, arr[p] is now\n",
    "        # at right place\n",
    "        pi = partition(arr, low, high)\n",
    "\n",
    "        # Separately sort elements before\n",
    "        # partition and after partition\n",
    "        quickSort(arr, low, pi-1)\n",
    "        quickSort(arr, pi+1, high)"
   ]
  },
  {
   "cell_type": "code",
   "execution_count": 22,
   "metadata": {},
   "outputs": [
    {
     "name": "stdout",
     "output_type": "stream",
     "text": [
      "[8, 12, 16, 17, 25, 57]\n"
     ]
    }
   ],
   "source": [
    "# Driver code to test above\n",
    "arr = [17, 12, 57, 8, 16, 25]\n",
    "n = len(arr) # jumlah elemen dalam array akan disimpan di varibel n\n",
    "quickSort(arr, 0, n-1)  # n-1 adalah jumlah elemen dalam array dikurang satu,\n",
    "                        # maka akan memunculkan index terakhir\n",
    "print(arr)\n",
    "\n",
    "# This code is contributed by Mohit Kumra\n",
    "#This code in improved by https://github.com/anushkrishnav\n",
    "# And little bit changes By NayHanif"
   ]
  },
  {
   "cell_type": "code",
   "execution_count": null,
   "metadata": {},
   "outputs": [],
   "source": []
  }
 ],
 "metadata": {
  "kernelspec": {
   "display_name": "Python 3",
   "language": "python",
   "name": "python3"
  },
  "language_info": {
   "codemirror_mode": {
    "name": "ipython",
    "version": 3
   },
   "file_extension": ".py",
   "mimetype": "text/x-python",
   "name": "python",
   "nbconvert_exporter": "python",
   "pygments_lexer": "ipython3",
   "version": "3.8.3"
  }
 },
 "nbformat": 4,
 "nbformat_minor": 4
}
