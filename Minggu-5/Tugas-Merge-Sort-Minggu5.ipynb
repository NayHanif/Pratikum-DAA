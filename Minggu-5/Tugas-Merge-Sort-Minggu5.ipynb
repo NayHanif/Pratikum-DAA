{
 "cells": [
  {
   "cell_type": "markdown",
   "metadata": {},
   "source": [
    "# Tugas Merge Sort"
   ]
  },
  {
   "cell_type": "markdown",
   "metadata": {},
   "source": [
    "Merge Sort merupakan sebuah kasus yang cocok untuk\n",
    "penerapan teknik devide-and-conquer.\n",
    "Mergesort diselesaikan dengan cara:"
   ]
  },
  {
   "cell_type": "markdown",
   "metadata": {},
   "source": [
    "• membagi deret bilangan yang akan diurutkan menjadi 2 bagian;"
   ]
  },
  {
   "cell_type": "markdown",
   "metadata": {},
   "source": [
    "• mencari deret urut setiap bagian; dan"
   ]
  },
  {
   "cell_type": "markdown",
   "metadata": {},
   "source": [
    "• menggabungkan hasil deret urut kedua bagian tersebut."
   ]
  },
  {
   "cell_type": "code",
   "execution_count": 84,
   "metadata": {},
   "outputs": [],
   "source": [
    "def merge(arr, left, right, mid):\n",
    "    \n",
    "    l=arr[left:mid+1]\n",
    "    r=arr[mid+1:right+1]\n",
    "    \n",
    "    i,j=0,0\n",
    "    k = left\n",
    "    \n",
    "    while i<len(l) and j<len(r):\n",
    "        if l[i]<=r[j]:\n",
    "            arr[k]=l[i]\n",
    "            i+=1\n",
    "        else:\n",
    "            #print(left[i], right[j])\n",
    "            arr[k]=r[j]\n",
    "            j+=1\n",
    "            \n",
    "        k+=1\n",
    "        \n",
    "    while i<len(l):\n",
    "        arr[k]=l[i]\n",
    "        i+=1\n",
    "        k+=1\n",
    "    while j<len(r):\n",
    "        arr[k]=r[j]\n",
    "        j+=1\n",
    "        k+=1"
   ]
  },
  {
   "cell_type": "code",
   "execution_count": 85,
   "metadata": {},
   "outputs": [],
   "source": [
    "def mergeSort(arr, left, right):\n",
    "    if left >= right:\n",
    "        return\n",
    "    \n",
    "    mid = (left+right)//2\n",
    "    mergeSort(arr, left, mid)\n",
    "    mergeSort(arr, mid+1, right)\n",
    "    merge(arr, left, right, mid)"
   ]
  },
  {
   "cell_type": "code",
   "execution_count": 86,
   "metadata": {},
   "outputs": [
    {
     "name": "stdout",
     "output_type": "stream",
     "text": [
      "[5, 7, 9, 16, 21, 30]\n"
     ]
    }
   ],
   "source": [
    "arr = [21, 5, 9, 16, 30, 7]\n",
    "mergeSort(arr, 0, len(arr)-1)\n",
    "print(arr)\n",
    "\n",
    "# This code is contributed by Mohit Kumra\n",
    "#This code in improved by https://github.com/anushkrishnav\n",
    "# Improved again By NayHanif"
   ]
  },
  {
   "cell_type": "code",
   "execution_count": null,
   "metadata": {},
   "outputs": [],
   "source": []
  }
 ],
 "metadata": {
  "kernelspec": {
   "display_name": "Python 3",
   "language": "python",
   "name": "python3"
  },
  "language_info": {
   "codemirror_mode": {
    "name": "ipython",
    "version": 3
   },
   "file_extension": ".py",
   "mimetype": "text/x-python",
   "name": "python",
   "nbconvert_exporter": "python",
   "pygments_lexer": "ipython3",
   "version": "3.8.3"
  }
 },
 "nbformat": 4,
 "nbformat_minor": 4
}
