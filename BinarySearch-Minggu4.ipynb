{
 "cells": [
  {
   "cell_type": "code",
   "execution_count": 6,
   "metadata": {},
   "outputs": [],
   "source": [
    "# 2. Binary Search\n",
    "\n",
    "def BubbleSort(list):\n",
    "# Exchange the element to arrange in order\n",
    "    lastElementIndex = len(list)-1\n",
    "    for passNo in range(lastElementIndex,0,-1):\n",
    "        for idx in range(passNo):\n",
    "            if list[idx]>list[idx+1]:\n",
    "                list[idx],list[idx+1]=list[idx+1],list[idx]\n",
    "    return list"
   ]
  },
  {
   "cell_type": "code",
   "execution_count": 7,
   "metadata": {},
   "outputs": [],
   "source": [
    "def BinarySearch(list, item):\n",
    "    first = 0\n",
    "    last = len(list)-1\n",
    "    found = False\n",
    "    \n",
    "    while first<=last and not found:\n",
    "        midpoint = (first + last)//2\n",
    "        if list[midpoint] == item:\n",
    "            found = True\n",
    "        else:\n",
    "            if item < list[midpoint]:\n",
    "                last = midpoint-1\n",
    "            else:\n",
    "                first = midpoint+1\n",
    "    return found"
   ]
  },
  {
   "cell_type": "code",
   "execution_count": 8,
   "metadata": {},
   "outputs": [
    {
     "name": "stdout",
     "output_type": "stream",
     "text": [
      "True\n",
      "False\n"
     ]
    }
   ],
   "source": [
    "list = [12, 33, 11, 99, 22, 55, 90]\n",
    "sorted_list = BubbleSort(list)\n",
    "print(BinarySearch(list, 12))\n",
    "print(BinarySearch(list, 91))"
   ]
  }
 ],
 "metadata": {
  "kernelspec": {
   "display_name": "Python 3",
   "language": "python",
   "name": "python3"
  },
  "language_info": {
   "codemirror_mode": {
    "name": "ipython",
    "version": 3
   },
   "file_extension": ".py",
   "mimetype": "text/x-python",
   "name": "python",
   "nbconvert_exporter": "python",
   "pygments_lexer": "ipython3",
   "version": "3.8.3"
  }
 },
 "nbformat": 4,
 "nbformat_minor": 4
}
